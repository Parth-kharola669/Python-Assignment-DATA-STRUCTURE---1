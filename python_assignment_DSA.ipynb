{
  "nbformat": 4,
  "nbformat_minor": 0,
  "metadata": {
    "colab": {
      "provenance": []
    },
    "kernelspec": {
      "name": "python3",
      "display_name": "Python 3"
    },
    "language_info": {
      "name": "python"
    }
  },
  "cells": [
    {
      "cell_type": "markdown",
      "source": [
        "# Pyhton DSA Questions\n",
        "\n",
        "1 - What are data structures, and why are they important?\n",
        "  - A data structure is a way of organizing, storing, and managing data so that it can be used efficiently.\n",
        "Think of it like a container that not only holds data but also defines how you can access and manipulate that data.\n",
        "\n",
        "2 - Explain the difference between mutable and immutable data types with examples?\n",
        "  - Mutable Data Types\n",
        "\n",
        " Meaning: Mutable means changeable.\n",
        "\n",
        " Once created, the content of a mutable object can be modified (elements can be added, removed, or updated).\n",
        "\n",
        " In Python, common mutable data types are:\n",
        "\n",
        " List ([ ])\n",
        "\n",
        " Dictionary ({ })\n",
        "\n",
        " Set ({ })\n",
        "\n",
        " bytearray\n",
        "\n",
        " Immutable Data Types\n",
        "\n",
        " Meaning: Immutable means unchangeable.\n",
        "\n",
        " Once created, the content of an immutable object cannot be modified. Any change creates a new object in memory.\n",
        "\n",
        " In Python, common immutable data types are:\n",
        "\n",
        " String (\"hello\")\n",
        "\n",
        " Tuple (( ))\n",
        "\n",
        " Frozen set (frozenset)\n",
        "\n",
        " Numbers (int, float, complex)\n",
        "\n",
        " bool\n",
        "\n",
        "3 - What are the main differences between lists and tuples in Python?\n",
        "\n",
        " - Mutability → List = changeable, Tuple = fixed.\n",
        "\n",
        " Syntax → List = [ ], Tuple = ( ).\n",
        "\n",
        " Performance → Tuple faster, List slower.\n",
        "\n",
        " Methods → List has many, Tuple has only 2.\n",
        "\n",
        " Hashable → List , Tuple .\n",
        "\n",
        "4 - Describe how dictionaries store data\n",
        "\n",
        "  - A dictionary in Python is an unordered collection of key–value pairs.\n",
        " Internally, it is implemented using a data structure called a hash table.\n",
        "\n",
        "5 - Why might you use a set instead of a list in Python?\n",
        "  - Uniqueness of Elements\n",
        "\n",
        " Set → Automatically removes duplicates.\n",
        "\n",
        " List → Allows duplicates.\n",
        "\n",
        " Faster Membership Testing\n",
        "\n",
        " Checking if something exists (in) is much faster in sets because they use hash tables.\n",
        "\n",
        " In lists, membership requires scanning each element (O(n)).\n",
        "\n",
        " In sets, membership is on average O(1).\n",
        "\n",
        " Mathematical Set Operations\n",
        "\n",
        " Sets support union, intersection, difference operations directly. Lists don’t.\n",
        "\n",
        "6 - What is a string in Python, and how is it different from a list?\n",
        "  - A string is a sequence of characters enclosed in single ('), double (\"), or triple quotes (''' \"\"\").\n",
        "\n",
        "7 - How do tuples ensure data integrity in Python\n",
        "  - Immutability (Cannot be Changed)\n",
        "\n",
        " Tuples are immutable, meaning once created, their contents cannot be modified (no add, remove, or update).\n",
        "\n",
        " This immutability ensures that the data stays consistent throughout the program.   \n",
        "\n",
        "8 - What is a hash table, and how does it relate to dictionaries in Python3\n",
        "  - A hash table is a data structure that stores key–value pairs and allows very fast data retrieval.\n",
        "\n",
        "9 - Can lists contain different data types in Python\n",
        "  - in Python, lists can contain elements of different data types.\n",
        "\n",
        " That’s because Python lists are heterogeneous collections, meaning each element can be any object (int, float, string, list, dict, even custom objects).\n",
        "\n",
        "10 - Explain why strings are immutable in Python\n",
        "  - Memory Efficiency (String Interning)\n",
        "\n",
        " Python often reuses the same string objects (called string interning).\n",
        " Hashability (Safe for Dictionary Keys & Sets)\n",
        "\n",
        " Immutable objects can be hashed, which is required for dictionary keys and set elements.\n",
        "\n",
        " Since strings are immutable, they can safely be used as keys:\n",
        "\n",
        "11 - What advantages do dictionaries offer over lists for certain task\n",
        "  - Dictionaries (dict) and Lists (list) are both powerful, but dictionaries are better for certain tasks.\n",
        "  \n",
        "  Fast Lookups (O(1) vs O(n))\n",
        "\n",
        "  Key–Value Mapping\n",
        "\n",
        " List → Stores only values, accessed by index (0, 1, 2...).\n",
        "\n",
        " Dictionary → Stores pairs (key: value), making data more meaningful.\n",
        "\n",
        "12 - Describe a scenario where using a tuple would be preferable over a list\n",
        "  -  Scenario Where a Tuple is Better Than a List\n",
        "\n",
        " A tuple is preferable when:\n",
        "\n",
        " You want a fixed collection of values.\n",
        "\n",
        " You want to ensure data integrity (no accidental modifications).\n",
        "\n",
        " You need the data to be hashable (usable as dictionary keys or set elements).\n",
        "\n",
        "13 -  How do sets handle duplicate values in Python\n",
        "   -  How Sets Handle Duplicates in Python\n",
        "\n",
        " A set is an unordered collection of unique elements.\n",
        "\n",
        " If you try to add a duplicate value into a set, Python automatically ignores it — the set only keeps one copy.\n",
        "\n",
        "14 -  How does the “in” keyword work differently for lists and dictionaries\n",
        "   -  1. in with Lists\n",
        "\n",
        " In a list, in checks whether a value exists in the list.\n",
        "\n",
        " It scans elements one by one → linear search (O(n)).\n",
        "\n",
        " 2. in with Dictionaries\n",
        "\n",
        " In a dictionary, in checks whether a key exists (NOT the value).\n",
        "\n",
        " Lookup is very fast because dictionaries use a hash table → O(1) average time.\n",
        "\n",
        "15 - Can you modify the elements of a tuple? Explain why or why notP\n",
        "   - No, you cannot directly modify the elements of a tuple.\n",
        "\n",
        " Tuples are immutable (unchangeable).\n",
        "\n",
        " Once a tuple is created, you cannot add, remove, or change its items.\n",
        "\n",
        " Data Integrity → Tuples are often used for fixed collections of data (like coordinates, days of the week). Immutability ensures the data isn’t changed accidentally.\n",
        "\n",
        " Hashability → Because tuples are immutable, they can be used as keys in dictionaries or elements in sets (lists can’t be).\n",
        "\n",
        "16 -  What is a nested dictionary, and give an example of its use case\n",
        "   -  A nested dictionary is a dictionary inside another dictionary.\n",
        "\n",
        " It allows storing data in a hierarchical or structured way.\n",
        "\n",
        " Think of it like: main dictionary → sub-dictionaries → values.\n",
        "\n",
        "17 - Describe the time complexity of accessing elements in a dictionary\n",
        "   - Python dictionaries are implemented using hash tables.\n",
        "Because of this, accessing an element by key is very efficient.\n",
        "\n",
        " Average Case:\n",
        "\n",
        " O(1) → Constant time.\n",
        "\n",
        " Lookup is almost instant since the key’s hash value is computed, and the element is directly located.\n",
        "\n",
        " Worst Case:\n",
        "\n",
        " O(n) → Linear time.\n",
        "\n",
        " This happens rarely, when many keys collide (i.e., have the same hash bucket), forcing Python to search through a chain of items.\n",
        "\n",
        " Python’s hashing mechanism and resizing strategy make this unlikely.\n",
        "\n",
        "18 - In what situations are lists preferred over dictionaries\n",
        "   - Use a list instead of a dictionary when:\n",
        "\n",
        " You care about order.\n",
        "\n",
        " You only need values, not key–value mapping.\n",
        "\n",
        " Data is simple, small, or index-based.\n",
        "\n",
        " Duplicates are needed.\n",
        "\n",
        " Fast iteration is more important than key-based lookup.\n",
        "\n",
        "19 - Why are dictionaries considered unordered, and how does that affect data retrieval\n",
        "  -  Dictionaries were unordered collections → meaning they did not guarantee the order of items when you inserted or retrieved them.\n",
        "\n",
        "  The reason: dictionaries are built on hash tables.\n",
        "\n",
        " Keys are stored based on their hash value, not the order in which you add them.\n",
        "\n",
        " This makes fast lookup (O(1)) possible, but order wasn’t preserved.\n",
        "\n",
        "20 - Explain the difference between a list and a dictionary in terms of data retrieval.\n",
        "  - 1. Lists (Index-Based Retrieval)\n",
        "\n",
        " Lists store data in an ordered sequence.\n",
        "\n",
        " Retrieval is done using numeric indexes (positions).\n",
        "\n",
        " Time Complexity:\n",
        "\n",
        " Access by index → O(1) (fast, direct).\n",
        "\n",
        " Searching for a value → O(n) (you may need to scan the whole list).  \n",
        "\n",
        " . Dictionaries (Key-Based Retrieval)\n",
        "\n",
        " Dictionaries store data as key–value pairs.\n",
        "\n",
        " Retrieval is done using the key, not position.\n",
        "\n",
        " Time Complexity:\n",
        "\n",
        " Access by key → O(1) average (very fast, thanks to hashing).\n",
        "\n",
        " Searching for a value (without knowing the key) → O(n).\n"
      ],
      "metadata": {
        "id": "8NaL99eFGZO0"
      }
    },
    {
      "cell_type": "code",
      "execution_count": 1,
      "metadata": {
        "colab": {
          "base_uri": "https://localhost:8080/"
        },
        "id": "tkHPDIn4EQBI",
        "outputId": "438bc348-11ec-4342-bd10-a315d130d6f4"
      },
      "outputs": [
        {
          "output_type": "stream",
          "name": "stdout",
          "text": [
            "Parth Kharola\n"
          ]
        }
      ],
      "source": [
        "#1 - Write a code to create a string with your name and print it\n",
        "\n",
        "\n",
        "name = \"Parth Kharola\"\n",
        "\n",
        "\n",
        "print(name)\n"
      ]
    },
    {
      "cell_type": "code",
      "source": [
        "#2 - Write a code to find the length of the string \"Hello World\"\n",
        "\n",
        "string = \"Hello World\"\n",
        "\n",
        "print(len(string))"
      ],
      "metadata": {
        "colab": {
          "base_uri": "https://localhost:8080/"
        },
        "id": "lNY4LmGcM_0v",
        "outputId": "c7043486-891c-4e39-9647-8c824e292b14"
      },
      "execution_count": 2,
      "outputs": [
        {
          "output_type": "stream",
          "name": "stdout",
          "text": [
            "11\n"
          ]
        }
      ]
    },
    {
      "cell_type": "code",
      "source": [
        "#3 - Write a code to slice the first 3 characters from the string \"Python Programming\"\n",
        "\n",
        "string = \"Python Programming\"\n",
        "\n",
        "print(string[0:3])"
      ],
      "metadata": {
        "colab": {
          "base_uri": "https://localhost:8080/"
        },
        "id": "9GyDILwMNIHb",
        "outputId": "04cfd964-3bcb-4278-c3fb-f20d6cf61a47"
      },
      "execution_count": 3,
      "outputs": [
        {
          "output_type": "stream",
          "name": "stdout",
          "text": [
            "Pyt\n"
          ]
        }
      ]
    },
    {
      "cell_type": "code",
      "source": [
        "#4 - Write a code to convert the string \"hello\" to uppercase\n",
        "\n",
        "string = \"hello\"\n",
        "\n",
        "print(string.upper())"
      ],
      "metadata": {
        "colab": {
          "base_uri": "https://localhost:8080/"
        },
        "id": "woior8cpNQsF",
        "outputId": "308bb705-0218-4b4b-8c70-d765b63d0281"
      },
      "execution_count": 4,
      "outputs": [
        {
          "output_type": "stream",
          "name": "stdout",
          "text": [
            "HELLO\n"
          ]
        }
      ]
    },
    {
      "cell_type": "code",
      "source": [
        "#5 - Write a code to replace the word \"apple\" with \"orange\" in the string \"I like apple\"\n",
        "\n",
        "\n",
        "string = \"I like apple\"\n",
        "\n",
        "print(string.replace(\"apple\", \"orange\"))"
      ],
      "metadata": {
        "colab": {
          "base_uri": "https://localhost:8080/"
        },
        "id": "LiFXtoIuNRTh",
        "outputId": "7258c18e-d2dc-4de4-ea6b-581be84bf41f"
      },
      "execution_count": 5,
      "outputs": [
        {
          "output_type": "stream",
          "name": "stdout",
          "text": [
            "I like orange\n"
          ]
        }
      ]
    },
    {
      "cell_type": "code",
      "source": [
        "#6 - Write a code to create a list with numbers 1 to 5 and print it\n",
        "\n",
        "list = [1,2,3,4,5]\n",
        "\n",
        "print(list)\n",
        ""
      ],
      "metadata": {
        "colab": {
          "base_uri": "https://localhost:8080/"
        },
        "id": "czX9W8AQNRQD",
        "outputId": "b7173fb3-64cd-4168-c9cd-ca0ef50d4c8d"
      },
      "execution_count": 6,
      "outputs": [
        {
          "output_type": "stream",
          "name": "stdout",
          "text": [
            "[1, 2, 3, 4, 5]\n"
          ]
        }
      ]
    },
    {
      "cell_type": "code",
      "source": [
        "#7 - Write a code to append the number 10 to the list [1, 2, 3, 4]\n",
        "\n",
        "list = [1,2,3,4]\n",
        "\n",
        "list.append(10)\n",
        "\n",
        "print(list)"
      ],
      "metadata": {
        "colab": {
          "base_uri": "https://localhost:8080/"
        },
        "id": "MFs8u6ovNnF0",
        "outputId": "337f1637-b9c0-4150-a840-1ec102582546"
      },
      "execution_count": 7,
      "outputs": [
        {
          "output_type": "stream",
          "name": "stdout",
          "text": [
            "[1, 2, 3, 4, 10]\n"
          ]
        }
      ]
    },
    {
      "cell_type": "code",
      "source": [
        "#8 - Write a code to remove the number 3 from the list [1, 2, 3, 4, 5]\n",
        "\n",
        "\n",
        "list = [1,2,3,4,5]\n",
        "\n",
        "list.remove(3)\n",
        "\n",
        "print(list)"
      ],
      "metadata": {
        "colab": {
          "base_uri": "https://localhost:8080/"
        },
        "id": "AMf52-v5NnCW",
        "outputId": "d5ada17d-f421-4acb-e18b-3fcb6ed99db5"
      },
      "execution_count": 8,
      "outputs": [
        {
          "output_type": "stream",
          "name": "stdout",
          "text": [
            "[1, 2, 4, 5]\n"
          ]
        }
      ]
    },
    {
      "cell_type": "code",
      "source": [
        "#9 - Write a code to access the second element in the list ['a', 'b', 'c', 'd']\n",
        "\n",
        "list = ['a', 'b', 'c', 'd']\n",
        "\n",
        "print(list[1])"
      ],
      "metadata": {
        "colab": {
          "base_uri": "https://localhost:8080/"
        },
        "id": "1ccvxKEqNm-8",
        "outputId": "df0ced0b-0c41-4d5c-c3a7-ccc4b86081c5"
      },
      "execution_count": 9,
      "outputs": [
        {
          "output_type": "stream",
          "name": "stdout",
          "text": [
            "b\n"
          ]
        }
      ]
    },
    {
      "cell_type": "code",
      "source": [
        "#10 - Write a code to reverse the list [10, 20, 30, 40, 50]\n",
        "\n",
        "numbers = [10, 20, 30, 40, 50]\n",
        "\n",
        "numbers.reverse()\n",
        "\n",
        "print(numbers)\n",
        "\n",
        "\n"
      ],
      "metadata": {
        "colab": {
          "base_uri": "https://localhost:8080/"
        },
        "id": "3yZgBigDNm8h",
        "outputId": "ad5f0f44-f75a-4286-c7da-323678876859"
      },
      "execution_count": 10,
      "outputs": [
        {
          "output_type": "stream",
          "name": "stdout",
          "text": [
            "[50, 40, 30, 20, 10]\n"
          ]
        }
      ]
    },
    {
      "cell_type": "code",
      "source": [
        "#11 -  Write a code to create a tuple with the elements 100, 200, 300 and print it.\n",
        "\n",
        "\n",
        "numbers = (100, 200, 300)\n",
        "\n",
        "print(numbers)\n"
      ],
      "metadata": {
        "colab": {
          "base_uri": "https://localhost:8080/"
        },
        "id": "y1q6COCbOXAH",
        "outputId": "94e7c465-a11a-4cb7-de0a-69f7e8b50de9"
      },
      "execution_count": 11,
      "outputs": [
        {
          "output_type": "stream",
          "name": "stdout",
          "text": [
            "(100, 200, 300)\n"
          ]
        }
      ]
    },
    {
      "cell_type": "code",
      "source": [
        "#12 - Write a code to access the second-to-last element of the tuple ('red', 'green', 'blue', 'yellow').\n",
        "\n",
        "\n",
        "colors = ('red', 'green', 'blue', 'yellow')\n",
        "\n",
        "print(colors[-2])\n"
      ],
      "metadata": {
        "colab": {
          "base_uri": "https://localhost:8080/"
        },
        "id": "PU_9BCqIOW8n",
        "outputId": "30c2db2e-197a-41e0-c16d-ba758d52e600"
      },
      "execution_count": 12,
      "outputs": [
        {
          "output_type": "stream",
          "name": "stdout",
          "text": [
            "blue\n"
          ]
        }
      ]
    },
    {
      "cell_type": "code",
      "source": [
        "#13 - Write a code to find the minimum number in the tuple (10, 20, 5, 15)\n",
        "\n",
        "numbers = (10, 20, 5, 15)\n",
        "\n",
        "print(min(numbers))\n"
      ],
      "metadata": {
        "colab": {
          "base_uri": "https://localhost:8080/"
        },
        "id": "vrMpbZ87OW5h",
        "outputId": "5cf7cdf3-9025-439b-97d1-e33bdc300182"
      },
      "execution_count": 13,
      "outputs": [
        {
          "output_type": "stream",
          "name": "stdout",
          "text": [
            "5\n"
          ]
        }
      ]
    },
    {
      "cell_type": "code",
      "source": [
        "#14 - Write a code to find the index of the element \"cat\" in the tuple ('dog', 'cat', 'rabbit')\n",
        "\n",
        "\n",
        "animals = ('dog', 'cat', 'rabbit')\n",
        "\n",
        "print(animals.index(\"cat\"))\n",
        "\n"
      ],
      "metadata": {
        "colab": {
          "base_uri": "https://localhost:8080/"
        },
        "id": "topzjbOfO1A-",
        "outputId": "838517ea-c5df-4d7d-f641-8c495c889ff4"
      },
      "execution_count": 14,
      "outputs": [
        {
          "output_type": "stream",
          "name": "stdout",
          "text": [
            "1\n"
          ]
        }
      ]
    },
    {
      "cell_type": "code",
      "source": [
        "#15 - Write a code to create a tuple containing three different fruits and check if \"kiwi\" is in it.\n",
        "\n",
        "fruits = (\"apple\", \"banana\", \"orange\")\n",
        "\n",
        "if \"kiwi\" in fruits:\n",
        "    print(\"Kiwi is in the tuple.\")\n",
        "else:\n",
        "    print(\"Kiwi is not in the tuple.\")\n",
        "\n"
      ],
      "metadata": {
        "colab": {
          "base_uri": "https://localhost:8080/"
        },
        "id": "Tv2J0V9cO09n",
        "outputId": "34276994-ef1f-49f3-857e-06abf72e5e9a"
      },
      "execution_count": 15,
      "outputs": [
        {
          "output_type": "stream",
          "name": "stdout",
          "text": [
            "Kiwi is not in the tuple.\n"
          ]
        }
      ]
    },
    {
      "cell_type": "code",
      "source": [
        "#16 - Write a code to create a set with the elements 'a', 'b', 'c' and print it.\n",
        "\n",
        "letters = {'a', 'b', 'c'}\n",
        "\n",
        "print(letters)\n"
      ],
      "metadata": {
        "colab": {
          "base_uri": "https://localhost:8080/"
        },
        "id": "vbVB7XDrO06w",
        "outputId": "8aa86ff2-eb2e-4ac2-e161-98ac7638ee94"
      },
      "execution_count": 16,
      "outputs": [
        {
          "output_type": "stream",
          "name": "stdout",
          "text": [
            "{'a', 'b', 'c'}\n"
          ]
        }
      ]
    },
    {
      "cell_type": "code",
      "source": [
        "#17 - Write a code to clear all elements from the set {1, 2, 3, 4, 5}\n",
        "\n",
        "\n",
        "numbers = {1, 2, 3, 4, 5}\n",
        "\n",
        "numbers.clear()\n",
        "\n",
        "print(numbers)"
      ],
      "metadata": {
        "colab": {
          "base_uri": "https://localhost:8080/"
        },
        "id": "AaKdhtRTPv1m",
        "outputId": "24a23da8-0041-4216-d07d-c3f4010ef477"
      },
      "execution_count": 17,
      "outputs": [
        {
          "output_type": "stream",
          "name": "stdout",
          "text": [
            "set()\n"
          ]
        }
      ]
    },
    {
      "cell_type": "code",
      "source": [
        "#18 - Write a code to remove the element 4 from the set {1, 2, 3, 4}.\n",
        "\n",
        "\n",
        "numbers = {1, 2, 3, 4}\n",
        "\n",
        "numbers.remove(4)\n",
        "\n",
        "print(numbers)"
      ],
      "metadata": {
        "colab": {
          "base_uri": "https://localhost:8080/"
        },
        "id": "DEf7xm8UPvyN",
        "outputId": "e6684360-91bf-41bc-b024-f02d3dc34045"
      },
      "execution_count": 18,
      "outputs": [
        {
          "output_type": "stream",
          "name": "stdout",
          "text": [
            "{1, 2, 3}\n"
          ]
        }
      ]
    },
    {
      "cell_type": "code",
      "source": [
        "#19 -  Write a code to find the union of two sets {1, 2, 3} and {3, 4, 5}\n",
        "\n",
        "set1 = {1, 2, 3}\n",
        "set2 = {3, 4, 5}\n",
        "\n",
        "union_set = set1.union(set2)\n",
        "\n",
        "print(union_set)"
      ],
      "metadata": {
        "colab": {
          "base_uri": "https://localhost:8080/"
        },
        "id": "AmWEQX76Pvv4",
        "outputId": "7398fe41-630d-4929-8556-4d3346570a1b"
      },
      "execution_count": 19,
      "outputs": [
        {
          "output_type": "stream",
          "name": "stdout",
          "text": [
            "{1, 2, 3, 4, 5}\n"
          ]
        }
      ]
    },
    {
      "cell_type": "code",
      "source": [
        "#20 - Write a code to find the intersection of two sets {1, 2, 3} and {2, 3, 4}.\n",
        "\n",
        "set1 = {1, 2, 3}\n",
        "set2 = {2, 3, 4}\n",
        "\n",
        "intersection_set = set1.intersection(set2)\n",
        "\n",
        "print(intersection_set)"
      ],
      "metadata": {
        "colab": {
          "base_uri": "https://localhost:8080/"
        },
        "id": "daNROwxiPvtj",
        "outputId": "5ade28c4-7638-4d45-9e74-a19473dc68a2"
      },
      "execution_count": 20,
      "outputs": [
        {
          "output_type": "stream",
          "name": "stdout",
          "text": [
            "{2, 3}\n"
          ]
        }
      ]
    },
    {
      "cell_type": "code",
      "source": [
        "#21 - Write a code to create a dictionary with the keys \"name\", \"age\", and \"city\", and print it.\n",
        "\n",
        "person = {\n",
        "    \"name\": \"John\",\n",
        "    \"age\": 30,\n",
        "    \"city\": \"New York\"\n",
        "}\n",
        "\n",
        "print(person)"
      ],
      "metadata": {
        "colab": {
          "base_uri": "https://localhost:8080/"
        },
        "id": "t4rW2xesQTdC",
        "outputId": "c6db6a52-4a7f-453d-c0b0-a75c6ba7d242"
      },
      "execution_count": 21,
      "outputs": [
        {
          "output_type": "stream",
          "name": "stdout",
          "text": [
            "{'name': 'John', 'age': 30, 'city': 'New York'}\n"
          ]
        }
      ]
    },
    {
      "cell_type": "code",
      "source": [
        "#22 -  Write a code to add a new key-value pair \"country\": \"USA\" to the dictionary {'name': 'John', 'age': 25}\n",
        "\n",
        "person = {'name': 'John', 'age': 25}\n",
        "\n",
        "person['country'] = 'USA'\n",
        "\n",
        "print(person)\n"
      ],
      "metadata": {
        "colab": {
          "base_uri": "https://localhost:8080/"
        },
        "id": "X7wnW0gqPvrL",
        "outputId": "7d1f6b80-4c9a-401c-bbf0-e0b2d55f8985"
      },
      "execution_count": 22,
      "outputs": [
        {
          "output_type": "stream",
          "name": "stdout",
          "text": [
            "{'name': 'John', 'age': 25, 'country': 'USA'}\n"
          ]
        }
      ]
    },
    {
      "cell_type": "code",
      "source": [
        "#23 -  Write a code to access the value associated with the key \"name\" in the dictionary {'name': 'Alice', 'age': 30}.\n",
        "\n",
        "person = {'name': 'Alice', 'age': 30}\n",
        "\n",
        "print(person['name'])"
      ],
      "metadata": {
        "colab": {
          "base_uri": "https://localhost:8080/"
        },
        "id": "IKwzNFjfPvoQ",
        "outputId": "780dbef1-fb67-4f66-dfc4-e20c60bf8b56"
      },
      "execution_count": 23,
      "outputs": [
        {
          "output_type": "stream",
          "name": "stdout",
          "text": [
            "Alice\n"
          ]
        }
      ]
    },
    {
      "cell_type": "code",
      "source": [
        "#24 -  Write a code to remove the key \"age\" from the dictionary {'name': 'Bob', 'age': 22, 'city': 'New York'}.\n",
        "\n",
        "person = {'name': 'Bob', 'age': 22, 'city': 'New York'}\n",
        "\n",
        "del person['age']\n",
        "\n",
        "print(person)"
      ],
      "metadata": {
        "colab": {
          "base_uri": "https://localhost:8080/"
        },
        "id": "-HxYqwxBPvlR",
        "outputId": "aa0aadca-ec6a-4941-866d-9ede94149a65"
      },
      "execution_count": 24,
      "outputs": [
        {
          "output_type": "stream",
          "name": "stdout",
          "text": [
            "{'name': 'Bob', 'city': 'New York'}\n"
          ]
        }
      ]
    },
    {
      "cell_type": "code",
      "source": [
        "#25 - Write a code to check if the key \"city\" exists in the dictionary {'name': 'Alice', 'city': 'Paris'}.\n",
        "\n",
        "person = {'name': 'Alice', 'city': 'Paris'}\n",
        "\n",
        "if 'city' in person:\n",
        "    print(\"The key 'city' exists in the dictionary.\")\n",
        "else:\n",
        "    print(\"The key 'city' does not exist in the dictionary.\")"
      ],
      "metadata": {
        "colab": {
          "base_uri": "https://localhost:8080/"
        },
        "id": "KpnWRURTPvg9",
        "outputId": "430a4119-4a2b-48fb-b4ff-a0c80d472fa7"
      },
      "execution_count": 25,
      "outputs": [
        {
          "output_type": "stream",
          "name": "stdout",
          "text": [
            "The key 'city' exists in the dictionary.\n"
          ]
        }
      ]
    },
    {
      "cell_type": "code",
      "source": [
        "#26 - Write a code to create a list, a tuple, and a dictionary, and print them all.\n",
        "\n",
        "\n",
        "my_list = [10, 20, 30]\n",
        "\n",
        "my_tuple = (100, 200, 300)\n",
        "\n",
        "my_dict = {\"name\": \"John\", \"age\": 25}\n",
        "\n",
        "print(\"List:\", my_list)\n",
        "print(\"Tuple:\", my_tuple)\n",
        "print(\"Dictionary:\", my_dict)\n",
        "\n",
        "\n",
        ""
      ],
      "metadata": {
        "colab": {
          "base_uri": "https://localhost:8080/"
        },
        "id": "2xT7-NDTRHHG",
        "outputId": "11487364-7666-4b96-9044-2bfdf8b66fe0"
      },
      "execution_count": 26,
      "outputs": [
        {
          "output_type": "stream",
          "name": "stdout",
          "text": [
            "List: [10, 20, 30]\n",
            "Tuple: (100, 200, 300)\n",
            "Dictionary: {'name': 'John', 'age': 25}\n"
          ]
        }
      ]
    },
    {
      "cell_type": "code",
      "source": [
        "#27 -  Write a code to create a list of 5 random numbers between 1 and 100, sort it in ascending order, and print the results.\n",
        "\n",
        "import random\n",
        "\n",
        "random_numbers = [random.randint(1, 100) for _ in range(5)]\n",
        "\n",
        "random_numbers.sort()\n",
        "\n",
        "print(\"Random Numbers:\", random_numbers)"
      ],
      "metadata": {
        "colab": {
          "base_uri": "https://localhost:8080/"
        },
        "id": "K-pFSHlERHDt",
        "outputId": "cb98a197-608b-4027-a753-661cccfefb51"
      },
      "execution_count": 27,
      "outputs": [
        {
          "output_type": "stream",
          "name": "stdout",
          "text": [
            "Random Numbers: [13, 20, 24, 55, 99]\n"
          ]
        }
      ]
    },
    {
      "cell_type": "code",
      "source": [
        "#28 - Write a code to create a list with strings and print the element at the third index.\n",
        "\n",
        "\n",
        "strings = [\"apple\", \"banana\", \"cherry\", \"date\", \"elderberry\"]\n",
        "\n",
        "print(strings[3])"
      ],
      "metadata": {
        "colab": {
          "base_uri": "https://localhost:8080/"
        },
        "id": "JHWEZTxyRHAP",
        "outputId": "a546106a-ced7-4cd0-9305-0a47a4b237a4"
      },
      "execution_count": 28,
      "outputs": [
        {
          "output_type": "stream",
          "name": "stdout",
          "text": [
            "date\n"
          ]
        }
      ]
    },
    {
      "cell_type": "code",
      "source": [
        "#29 -  Write a code to combine two dictionaries into one and print the result.\n",
        "\n",
        "dict1 = {\"name\": \"John\", \"age\": 25}\n",
        "dict2 = {\"country\": \"USA\", \"city\": \"New York\"}\n",
        "\n",
        "combined_dict = {**dict1, **dict2}\n",
        "\n",
        "print(combined_dict)\n",
        "combined_dict = dict1 | dict2\n",
        "\n",
        "\n",
        "print(combined_dict)\n",
        "\n",
        "\n",
        ""
      ],
      "metadata": {
        "colab": {
          "base_uri": "https://localhost:8080/"
        },
        "id": "6-xKSqtERG8-",
        "outputId": "61d3be3b-f0d4-45f0-df66-e0f6b9d46e45"
      },
      "execution_count": 30,
      "outputs": [
        {
          "output_type": "stream",
          "name": "stdout",
          "text": [
            "{'name': 'John', 'age': 25, 'country': 'USA', 'city': 'New York'}\n",
            "{'name': 'John', 'age': 25, 'country': 'USA', 'city': 'New York'}\n"
          ]
        }
      ]
    },
    {
      "cell_type": "code",
      "source": [
        "#30 -  Write a code to convert a list of strings into a set\n",
        "\n",
        "fruits_list = [\"apple\", \"banana\", \"cherry\", \"apple\", \"banana\"]\n",
        "\n",
        "\n",
        "fruits_set = set(fruits_list)\n",
        "\n",
        "print(fruits_set)\n"
      ],
      "metadata": {
        "colab": {
          "base_uri": "https://localhost:8080/"
        },
        "id": "xtoMLnu7SWiX",
        "outputId": "4449e523-081e-4888-dab3-6573bbcd4f3c"
      },
      "execution_count": 31,
      "outputs": [
        {
          "output_type": "stream",
          "name": "stdout",
          "text": [
            "{'banana', 'apple', 'cherry'}\n"
          ]
        }
      ]
    }
  ]
}